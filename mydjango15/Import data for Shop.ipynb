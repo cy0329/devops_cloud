{
 "cells": [
  {
   "cell_type": "code",
   "execution_count": 1,
   "id": "bfc3a9a9",
   "metadata": {},
   "outputs": [],
   "source": [
    "import os\n",
    "os.environ[\"DJANGO_SETTINGS_MODULE\"] = \"mydjango15.settings\"\n",
    "os.environ[\"DJANGO_ALLOW_ASYNC_UNSAFE\"] = \"true\"\n",
    "\n",
    "import django\n",
    "django.setup()"
   ]
  },
  {
   "cell_type": "code",
   "execution_count": 2,
   "id": "45cb3037",
   "metadata": {},
   "outputs": [
    {
     "data": {
      "text/plain": [
       "[['name', 'description', 'address', 'coordinates', 'telephone'],\n",
       " ['풍국면 대전세이백화점지점',\n",
       "  '별표국수 6500원\\n열무비빔국수 8000원\\n바지락미역떡국 9500원\\n꼬막해초비빔밥 9500원\\n해물칼국수 9500원\\n강릉짬뽕 칼국수 +애기밥 9500원\\n우삼격장칼국수 9500원\\n춘천닭갈비덮밥 10000원\\n마늘불고기 9000원\\n수제만두 6500원\\n주먹밥(4개) 3000원\\n부추만두(7개) 6500원',\n",
       "  '대전 중구 문화1동 계백로 1700',\n",
       "  '36.3209817,127.4089694',\n",
       "  '042-255-1100'],\n",
       " ['베트남식당',\n",
       "  '쌀국수 6000원\\n볶음밥 6000원\\n우동&족발 600원\\n월남쌈(10개) 18000원\\n토마토국수 6000원',\n",
       "  '대전 동구대동 400-10번지 301호',\n",
       "  '36.3337136,127.4458297',\n",
       "  '042-636-8444'],\n",
       " ['돈돼지',\n",
       "  '돈돼지모듬(600g) 33000원\\n돈돼지세트(돈돼지모듬+육회) 43000원\\n항정살(150g) 12000원\\n삼겹살(200g) 12000원\\n한우육회(200g) 23000원\\n가브리살(180g) 12000원\\n돼지 껍데기(200g) 7000원\\n',\n",
       "  '대전광역시 중구 은행선화동 147-5',\n",
       "  '36.3343889,127.4180043',\n",
       "  '042-223-9199'],\n",
       " ['동은성',\n",
       "  '탕수육 소 150000원\\n탕수육 중 18000원\\n탕수육 대 22000원\\n냄비짬뽕 중 16000원\\n냄비짬뽕 대 20000원\\n냄비우동 중 16000원\\n냄비우동 대 20000원',\n",
       "  '대전광역시 중구 은행동 23-2',\n",
       "  '36.3310828,127.4231581',\n",
       "  '042-252-3866'],\n",
       " ['홍리성',\n",
       "  '짜장면 4000원\\n우동 5000원\\n짬뽕 5000원\\n간짜장 5500원\\n볶음밥 5500원',\n",
       "  '대전광역시 중구 대흥동 37-2',\n",
       "  '36.3230135,127.4302085',\n",
       "  '042-255-0213'],\n",
       " ['사뭇진지',\n",
       "  '항정살 덮밥 12000원\\n차슈덮밥 12000원\\n새우치즈덮밥 12000원\\n',\n",
       "  '대전광역시 중구 대흥동 480-1',\n",
       "  '36.3260437,127.4227375',\n",
       "  '042-251-2345']]"
      ]
     },
     "execution_count": 2,
     "metadata": {},
     "output_type": "execute_result"
    }
   ],
   "source": [
    "from openpyxl import load_workbook\n",
    "wb = load_workbook('mydjango15-data.xlsx')\n",
    "sheet = wb.active\n",
    "rows = [\n",
    "    [column.value for column in row]\n",
    "    for row in sheet\n",
    "]\n",
    "rows"
   ]
  },
  {
   "cell_type": "code",
   "execution_count": 3,
   "id": "a0958d05",
   "metadata": {},
   "outputs": [
    {
     "data": {
      "text/plain": [
       "['name', 'description', 'address', 'coordinates', 'telephone']"
      ]
     },
     "execution_count": 3,
     "metadata": {},
     "output_type": "execute_result"
    }
   ],
   "source": [
    "column_names = rows[0]\n",
    "column_names"
   ]
  },
  {
   "cell_type": "code",
   "execution_count": 4,
   "id": "e6b0b0b7",
   "metadata": {},
   "outputs": [
    {
     "data": {
      "text/plain": [
       "[{'name': '풍국면 대전세이백화점지점',\n",
       "  'description': '별표국수 6500원\\n열무비빔국수 8000원\\n바지락미역떡국 9500원\\n꼬막해초비빔밥 9500원\\n해물칼국수 9500원\\n강릉짬뽕 칼국수 +애기밥 9500원\\n우삼격장칼국수 9500원\\n춘천닭갈비덮밥 10000원\\n마늘불고기 9000원\\n수제만두 6500원\\n주먹밥(4개) 3000원\\n부추만두(7개) 6500원',\n",
       "  'address': '대전 중구 문화1동 계백로 1700',\n",
       "  'telephone': '042-255-1100',\n",
       "  'latitude': '36.3209817',\n",
       "  'longitude': '127.4089694'},\n",
       " {'name': '베트남식당',\n",
       "  'description': '쌀국수 6000원\\n볶음밥 6000원\\n우동&족발 600원\\n월남쌈(10개) 18000원\\n토마토국수 6000원',\n",
       "  'address': '대전 동구대동 400-10번지 301호',\n",
       "  'telephone': '042-636-8444',\n",
       "  'latitude': '36.3337136',\n",
       "  'longitude': '127.4458297'},\n",
       " {'name': '돈돼지',\n",
       "  'description': '돈돼지모듬(600g) 33000원\\n돈돼지세트(돈돼지모듬+육회) 43000원\\n항정살(150g) 12000원\\n삼겹살(200g) 12000원\\n한우육회(200g) 23000원\\n가브리살(180g) 12000원\\n돼지 껍데기(200g) 7000원\\n',\n",
       "  'address': '대전광역시 중구 은행선화동 147-5',\n",
       "  'telephone': '042-223-9199',\n",
       "  'latitude': '36.3343889',\n",
       "  'longitude': '127.4180043'},\n",
       " {'name': '동은성',\n",
       "  'description': '탕수육 소 150000원\\n탕수육 중 18000원\\n탕수육 대 22000원\\n냄비짬뽕 중 16000원\\n냄비짬뽕 대 20000원\\n냄비우동 중 16000원\\n냄비우동 대 20000원',\n",
       "  'address': '대전광역시 중구 은행동 23-2',\n",
       "  'telephone': '042-252-3866',\n",
       "  'latitude': '36.3310828',\n",
       "  'longitude': '127.4231581'},\n",
       " {'name': '홍리성',\n",
       "  'description': '짜장면 4000원\\n우동 5000원\\n짬뽕 5000원\\n간짜장 5500원\\n볶음밥 5500원',\n",
       "  'address': '대전광역시 중구 대흥동 37-2',\n",
       "  'telephone': '042-255-0213',\n",
       "  'latitude': '36.3230135',\n",
       "  'longitude': '127.4302085'},\n",
       " {'name': '사뭇진지',\n",
       "  'description': '항정살 덮밥 12000원\\n차슈덮밥 12000원\\n새우치즈덮밥 12000원\\n',\n",
       "  'address': '대전광역시 중구 대흥동 480-1',\n",
       "  'telephone': '042-251-2345',\n",
       "  'latitude': '36.3260437',\n",
       "  'longitude': '127.4227375'}]"
      ]
     },
     "execution_count": 4,
     "metadata": {},
     "output_type": "execute_result"
    }
   ],
   "source": [
    "row_list = []\n",
    "\n",
    "for row in rows[1:]:\n",
    "    if row[0] is None:\n",
    "        break\n",
    "    row_dict = dict(zip(column_names, row))\n",
    "    latitude, longitude = row_dict[\"coordinates\"].split(\",\")\n",
    "    row_dict[\"latitude\"] = latitude\n",
    "    row_dict[\"longitude\"] = longitude\n",
    "    del row_dict['coordinates']\n",
    "    row_list.append(row_dict)\n",
    "\n",
    "row_list"
   ]
  },
  {
   "cell_type": "code",
   "execution_count": 5,
   "id": "2f5b2b90",
   "metadata": {},
   "outputs": [],
   "source": [
    "from delicious.models import Shop"
   ]
  },
  {
   "cell_type": "code",
   "execution_count": 6,
   "id": "17f760f0",
   "metadata": {},
   "outputs": [
    {
     "name": "stdout",
     "output_type": "stream",
     "text": [
      "Shop object (12)\n",
      "Shop object (13)\n",
      "Shop object (14)\n",
      "Shop object (15)\n",
      "Shop object (16)\n",
      "Shop object (17)\n"
     ]
    }
   ],
   "source": [
    "for row_dict in row_list:\n",
    "    shop = Shop(**row_dict)  # unpack\n",
    "    shop.save()\n",
    "    print(shop)"
   ]
  },
  {
   "cell_type": "code",
   "execution_count": null,
   "id": "510201bf",
   "metadata": {},
   "outputs": [],
   "source": []
  }
 ],
 "metadata": {
  "kernelspec": {
   "display_name": "Python 3 (ipykernel)",
   "language": "python",
   "name": "python3"
  },
  "language_info": {
   "codemirror_mode": {
    "name": "ipython",
    "version": 3
   },
   "file_extension": ".py",
   "mimetype": "text/x-python",
   "name": "python",
   "nbconvert_exporter": "python",
   "pygments_lexer": "ipython3",
   "version": "3.10.0"
  }
 },
 "nbformat": 4,
 "nbformat_minor": 5
}
