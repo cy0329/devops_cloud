{
 "cells": [
  {
   "cell_type": "code",
   "execution_count": 3,
   "id": "a2fffb41",
   "metadata": {},
   "outputs": [],
   "source": [
    "import os\n",
    "\n",
    "os.environ[\"DJANGO_SETTINGS_MODULE\"] = \"mydjango20.settings\"\n",
    "os.environ[\"DJANGO_ALLOW_ASYNC_UNSAFE\"] = \"true\"\n",
    "\n",
    "import django\n",
    "django.setup()"
   ]
  },
  {
   "cell_type": "code",
   "execution_count": 4,
   "id": "f2869518",
   "metadata": {},
   "outputs": [],
   "source": [
    "from shop.models import Shop"
   ]
  },
  {
   "cell_type": "code",
   "execution_count": 5,
   "id": "e48e74a8",
   "metadata": {},
   "outputs": [
    {
     "data": {
      "text/plain": [
       "<Shop: 투썸플레이스 대동점>"
      ]
     },
     "execution_count": 5,
     "metadata": {},
     "output_type": "execute_result"
    }
   ],
   "source": [
    "shop = Shop.objects.get(pk=8)\n",
    "shop"
   ]
  },
  {
   "cell_type": "code",
   "execution_count": 10,
   "id": "2f566d09",
   "metadata": {},
   "outputs": [],
   "source": [
    "tags = \"카페, 투썸플레이스\""
   ]
  },
  {
   "cell_type": "code",
   "execution_count": 21,
   "id": "aea2a6e0",
   "metadata": {},
   "outputs": [
    {
     "data": {
      "text/plain": [
       "<Tag: 중식당>"
      ]
     },
     "execution_count": 21,
     "metadata": {},
     "output_type": "execute_result"
    }
   ],
   "source": [
    "from shop.models import Tag\n",
    "\n",
    "tag_name = \"중식당\"\n",
    "# if not Tag.objects.filter(name=tag_name).exists():\n",
    "#     Tag.objects.create(name=tag_name)\n",
    "#     print(\"생성\")\n",
    "# else:\n",
    "#     print(\"do nothing\")\n",
    "\n",
    "# ManyToMany 필드 처리에서\n",
    "# 관계로 추가할 모뎅릐 인스턴스 리스트가 필요\n",
    "\n",
    "tag, __ =  Tag.objects.get_or_create(name=tag_name)\n",
    "tag"
   ]
  },
  {
   "cell_type": "code",
   "execution_count": 22,
   "id": "fee7cf62",
   "metadata": {},
   "outputs": [
    {
     "data": {
      "text/plain": [
       "[<Tag: 카페>, <Tag: 투썸플레이스>]"
      ]
     },
     "execution_count": 22,
     "metadata": {},
     "output_type": "execute_result"
    }
   ],
   "source": [
    "tag_list = []\n",
    "for word in tags.split(\",\"):\n",
    "    tag_name = word.strip()  # 좌우 공백을 제거\n",
    "    tag, __ = Tag.objects.get_or_create(name=tag_name)\n",
    "    tag_list.append(tag)\n",
    "    \n",
    "tag_list"
   ]
  },
  {
   "cell_type": "code",
   "execution_count": 24,
   "id": "da83cedb",
   "metadata": {},
   "outputs": [
    {
     "data": {
      "text/plain": [
       "<QuerySet []>"
      ]
     },
     "execution_count": 24,
     "metadata": {},
     "output_type": "execute_result"
    }
   ],
   "source": [
    "shop.tag_set.all()  # shop에 연결된 전체 Tag 목록"
   ]
  },
  {
   "cell_type": "code",
   "execution_count": 36,
   "id": "278e0bbd",
   "metadata": {},
   "outputs": [],
   "source": [
    "shop.tag_set.add(*tag_list)  # 중복 add에 대한 처리가 내부적으로 되어 있음"
   ]
  },
  {
   "cell_type": "code",
   "execution_count": 37,
   "id": "1ec7d944",
   "metadata": {},
   "outputs": [
    {
     "data": {
      "text/plain": [
       "<QuerySet [<Tag: 카페>, <Tag: 투썸플레이스>]>"
      ]
     },
     "execution_count": 37,
     "metadata": {},
     "output_type": "execute_result"
    }
   ],
   "source": [
    "shop.tag_set.all()"
   ]
  },
  {
   "cell_type": "code",
   "execution_count": 32,
   "id": "b19bfbfa",
   "metadata": {},
   "outputs": [],
   "source": [
    "shop.tag_set.clear()"
   ]
  },
  {
   "cell_type": "code",
   "execution_count": 33,
   "id": "5ada5ca1",
   "metadata": {},
   "outputs": [
    {
     "data": {
      "text/plain": [
       "<QuerySet []>"
      ]
     },
     "execution_count": 33,
     "metadata": {},
     "output_type": "execute_result"
    }
   ],
   "source": [
    "shop.tag_set.all()"
   ]
  },
  {
   "cell_type": "code",
   "execution_count": null,
   "id": "b231c934",
   "metadata": {},
   "outputs": [],
   "source": []
  }
 ],
 "metadata": {
  "kernelspec": {
   "display_name": "Python 3 (ipykernel)",
   "language": "python",
   "name": "python3"
  },
  "language_info": {
   "codemirror_mode": {
    "name": "ipython",
    "version": 3
   },
   "file_extension": ".py",
   "mimetype": "text/x-python",
   "name": "python",
   "nbconvert_exporter": "python",
   "pygments_lexer": "ipython3",
   "version": "3.10.0"
  }
 },
 "nbformat": 4,
 "nbformat_minor": 5
}
