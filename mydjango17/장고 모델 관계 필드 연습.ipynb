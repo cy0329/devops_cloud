{
 "cells": [
  {
   "cell_type": "code",
   "execution_count": 1,
   "id": "63e0f242",
   "metadata": {},
   "outputs": [],
   "source": [
    "import os\n",
    "\n",
    "os.environ[\"DJANGO_SETTINGS_MODULE\"] = \"mydjango17.settings\"\n",
    "os.environ[\"DJANGO_ALLOW_ASYNC_UNSAFE\"] = \"true\"\n",
    "\n",
    "import django\n",
    "django.setup()"
   ]
  },
  {
   "cell_type": "code",
   "execution_count": 2,
   "id": "7467faaa",
   "metadata": {},
   "outputs": [],
   "source": [
    "from diary.models import Post, Comment, Tag"
   ]
  },
  {
   "cell_type": "code",
   "execution_count": null,
   "id": "35db0adc",
   "metadata": {},
   "outputs": [],
   "source": []
  },
  {
   "cell_type": "code",
   "execution_count": 3,
   "id": "c52708df",
   "metadata": {},
   "outputs": [
    {
     "name": "stderr",
     "output_type": "stream",
     "text": [
      "(0.000) SELECT \"diary_post\".\"id\", \"diary_post\".\"created_at\", \"diary_post\".\"updated_at\", \"diary_post\".\"author_name\", \"diary_post\".\"title\", \"diary_post\".\"content\", \"diary_post\".\"photo\" FROM \"diary_post\" LIMIT 21; args=()\n"
     ]
    },
    {
     "data": {
      "text/plain": [
       "<QuerySet [<Post: 첫 제목>, <Post: 코로나19 연체위기 개인채무자…내년 6월까지 원금 상환유예>, <Post: 야놀자 인수된 인터파크, 밀크 코인 생태계 합류···\"시너지 낸다\">]>"
      ]
     },
     "execution_count": 3,
     "metadata": {},
     "output_type": "execute_result"
    }
   ],
   "source": [
    "Post.objects.all()  # 전체 포스팅 목록"
   ]
  },
  {
   "cell_type": "code",
   "execution_count": 4,
   "id": "57e6781d",
   "metadata": {},
   "outputs": [
    {
     "name": "stderr",
     "output_type": "stream",
     "text": [
      "(0.000) SELECT \"diary_comment\".\"id\", \"diary_comment\".\"created_at\", \"diary_comment\".\"updated_at\", \"diary_comment\".\"post_id\", \"diary_comment\".\"author_name\", \"diary_comment\".\"message\" FROM \"diary_comment\" LIMIT 21; args=()\n"
     ]
    },
    {
     "data": {
      "text/plain": [
       "<QuerySet [<Comment: Comment object (1)>, <Comment: Comment object (2)>, <Comment: Comment object (3)>, <Comment: Comment object (4)>, <Comment: Comment object (5)>, <Comment: Comment object (6)>, <Comment: Comment object (7)>, <Comment: Comment object (8)>, <Comment: Comment object (9)>]>"
      ]
     },
     "execution_count": 4,
     "metadata": {},
     "output_type": "execute_result"
    }
   ],
   "source": [
    "Comment.objects.all()  # 전체 댓글 목록"
   ]
  },
  {
   "cell_type": "code",
   "execution_count": 5,
   "id": "f60ff222",
   "metadata": {},
   "outputs": [
    {
     "name": "stderr",
     "output_type": "stream",
     "text": [
      "(0.000) SELECT \"diary_tag\".\"id\", \"diary_tag\".\"created_at\", \"diary_tag\".\"updated_at\", \"diary_tag\".\"name\" FROM \"diary_tag\" LIMIT 21; args=()\n"
     ]
    },
    {
     "data": {
      "text/plain": [
       "<QuerySet [<Tag: 코로나1>, <Tag: 코로나2>, <Tag: 태그1>, <Tag: 태그2>, <Tag: 태그3>, <Tag: 태그4>]>"
      ]
     },
     "execution_count": 5,
     "metadata": {},
     "output_type": "execute_result"
    }
   ],
   "source": [
    "Tag.objects.all()   # 전체 태그 목록"
   ]
  },
  {
   "cell_type": "code",
   "execution_count": null,
   "id": "baf4ac96",
   "metadata": {},
   "outputs": [],
   "source": []
  },
  {
   "cell_type": "code",
   "execution_count": 6,
   "id": "07c2c35b",
   "metadata": {},
   "outputs": [
    {
     "name": "stderr",
     "output_type": "stream",
     "text": [
      "(0.000) SELECT \"diary_post\".\"id\", \"diary_post\".\"created_at\", \"diary_post\".\"updated_at\", \"diary_post\".\"author_name\", \"diary_post\".\"title\", \"diary_post\".\"content\", \"diary_post\".\"photo\" FROM \"diary_post\" WHERE \"diary_post\".\"id\" = 1 LIMIT 21; args=(1,)\n"
     ]
    },
    {
     "data": {
      "text/plain": [
       "<Post: 첫 제목>"
      ]
     },
     "execution_count": 6,
     "metadata": {},
     "output_type": "execute_result"
    }
   ],
   "source": [
    "post = Post.objects.get(pk=1)  # 1번 포스팅 획득\n",
    "post"
   ]
  },
  {
   "cell_type": "code",
   "execution_count": 7,
   "id": "823ebf6f",
   "metadata": {},
   "outputs": [
    {
     "name": "stderr",
     "output_type": "stream",
     "text": [
      "(0.000) SELECT COUNT(*) AS \"__count\" FROM \"diary_comment\"; args=()\n"
     ]
    },
    {
     "data": {
      "text/plain": [
       "9"
      ]
     },
     "execution_count": 7,
     "metadata": {},
     "output_type": "execute_result"
    }
   ],
   "source": [
    "qs = Comment.objects.all()\n",
    "qs.count()"
   ]
  },
  {
   "cell_type": "code",
   "execution_count": 8,
   "id": "2a1e5bea",
   "metadata": {},
   "outputs": [
    {
     "name": "stderr",
     "output_type": "stream",
     "text": [
      "(0.000) SELECT COUNT(*) AS \"__count\" FROM \"diary_comment\" WHERE \"diary_comment\".\"post_id\" = 1; args=(1,)\n"
     ]
    },
    {
     "data": {
      "text/plain": [
       "3"
      ]
     },
     "execution_count": 8,
     "metadata": {},
     "output_type": "execute_result"
    }
   ],
   "source": [
    "qs = Comment.objects.all()\n",
    "qs = qs.filter(post=post)\n",
    "qs.count()"
   ]
  },
  {
   "cell_type": "code",
   "execution_count": 9,
   "id": "250a8052",
   "metadata": {},
   "outputs": [
    {
     "name": "stderr",
     "output_type": "stream",
     "text": [
      "(0.000) SELECT \"diary_comment\".\"id\", \"diary_comment\".\"created_at\", \"diary_comment\".\"updated_at\", \"diary_comment\".\"post_id\", \"diary_comment\".\"author_name\", \"diary_comment\".\"message\" FROM \"diary_comment\" WHERE \"diary_comment\".\"id\" = 1 LIMIT 21; args=(1,)\n"
     ]
    }
   ],
   "source": [
    "comment = Comment.objects.get(pk=1)"
   ]
  },
  {
   "cell_type": "code",
   "execution_count": 10,
   "id": "a8977aa5",
   "metadata": {},
   "outputs": [
    {
     "name": "stderr",
     "output_type": "stream",
     "text": [
      "(0.000) SELECT \"diary_post\".\"id\", \"diary_post\".\"created_at\", \"diary_post\".\"updated_at\", \"diary_post\".\"author_name\", \"diary_post\".\"title\", \"diary_post\".\"content\", \"diary_post\".\"photo\" FROM \"diary_post\" WHERE \"diary_post\".\"id\" = 1 LIMIT 21; args=(1,)\n"
     ]
    },
    {
     "data": {
      "text/plain": [
       "<Post: 첫 제목>"
      ]
     },
     "execution_count": 10,
     "metadata": {},
     "output_type": "execute_result"
    }
   ],
   "source": [
    "comment.post"
   ]
  },
  {
   "cell_type": "code",
   "execution_count": 17,
   "id": "b88b0c45",
   "metadata": {},
   "outputs": [
    {
     "name": "stderr",
     "output_type": "stream",
     "text": [
      "(0.015) SELECT \"diary_post\".\"id\", \"diary_post\".\"created_at\", \"diary_post\".\"updated_at\", \"diary_post\".\"author_name\", \"diary_post\".\"title\", \"diary_post\".\"content\", \"diary_post\".\"photo\" FROM \"diary_post\" WHERE \"diary_post\".\"id\" = 1 LIMIT 21; args=(1,)\n"
     ]
    },
    {
     "data": {
      "text/plain": [
       "<Post: 첫 제목>"
      ]
     },
     "execution_count": 17,
     "metadata": {},
     "output_type": "execute_result"
    }
   ],
   "source": [
    "Post.objects.get(pk=1)"
   ]
  },
  {
   "cell_type": "code",
   "execution_count": null,
   "id": "a4fa0cdb",
   "metadata": {},
   "outputs": [],
   "source": []
  },
  {
   "cell_type": "code",
   "execution_count": 14,
   "id": "de63edee",
   "metadata": {},
   "outputs": [
    {
     "name": "stderr",
     "output_type": "stream",
     "text": [
      "(0.000) SELECT \"diary_comment\".\"id\", \"diary_comment\".\"created_at\", \"diary_comment\".\"updated_at\", \"diary_comment\".\"post_id\", \"diary_comment\".\"author_name\", \"diary_comment\".\"message\" FROM \"diary_comment\" WHERE \"diary_comment\".\"post_id\" = 1 LIMIT 21; args=(1,)\n"
     ]
    },
    {
     "data": {
      "text/plain": [
       "<QuerySet [<Comment: Comment object (1)>, <Comment: Comment object (2)>, <Comment: Comment object (3)>]>"
      ]
     },
     "execution_count": 14,
     "metadata": {},
     "output_type": "execute_result"
    }
   ],
   "source": [
    "comment_list = Comment.objects.all().filter(post=post)\n",
    "comment_list"
   ]
  },
  {
   "cell_type": "code",
   "execution_count": 15,
   "id": "a138177f",
   "metadata": {},
   "outputs": [
    {
     "name": "stderr",
     "output_type": "stream",
     "text": [
      "(0.016) SELECT \"diary_comment\".\"id\", \"diary_comment\".\"created_at\", \"diary_comment\".\"updated_at\", \"diary_comment\".\"post_id\", \"diary_comment\".\"author_name\", \"diary_comment\".\"message\" FROM \"diary_comment\" WHERE \"diary_comment\".\"post_id\" = 1 LIMIT 21; args=(1,)\n"
     ]
    },
    {
     "data": {
      "text/plain": [
       "<QuerySet [<Comment: Comment object (1)>, <Comment: Comment object (2)>, <Comment: Comment object (3)>]>"
      ]
     },
     "execution_count": 15,
     "metadata": {},
     "output_type": "execute_result"
    }
   ],
   "source": [
    "post.comment_set.all()"
   ]
  },
  {
   "cell_type": "code",
   "execution_count": null,
   "id": "05a24054",
   "metadata": {},
   "outputs": [],
   "source": []
  },
  {
   "cell_type": "code",
   "execution_count": 18,
   "id": "7a41c19d",
   "metadata": {},
   "outputs": [
    {
     "name": "stderr",
     "output_type": "stream",
     "text": [
      "(0.000) SELECT \"diary_tag\".\"id\", \"diary_tag\".\"created_at\", \"diary_tag\".\"updated_at\", \"diary_tag\".\"name\" FROM \"diary_tag\" INNER JOIN \"diary_post_tag_set\" ON (\"diary_tag\".\"id\" = \"diary_post_tag_set\".\"tag_id\") WHERE \"diary_post_tag_set\".\"post_id\" = 1 LIMIT 21; args=(1,)\n"
     ]
    },
    {
     "data": {
      "text/plain": [
       "<QuerySet [<Tag: 태그1>, <Tag: 태그2>, <Tag: 태그3>]>"
      ]
     },
     "execution_count": 18,
     "metadata": {},
     "output_type": "execute_result"
    }
   ],
   "source": [
    "post.tag_set.all()"
   ]
  },
  {
   "cell_type": "code",
   "execution_count": null,
   "id": "ba94c48d",
   "metadata": {},
   "outputs": [],
   "source": []
  },
  {
   "cell_type": "code",
   "execution_count": 23,
   "id": "40e96c05",
   "metadata": {},
   "outputs": [
    {
     "name": "stderr",
     "output_type": "stream",
     "text": [
      "(0.000) SELECT \"diary_post\".\"id\", \"diary_post\".\"created_at\", \"diary_post\".\"updated_at\", \"diary_post\".\"author_name\", \"diary_post\".\"title\", \"diary_post\".\"content\", \"diary_post\".\"photo\" FROM \"diary_post\" INNER JOIN \"diary_post_tag_set\" ON (\"diary_post\".\"id\" = \"diary_post_tag_set\".\"post_id\") INNER JOIN \"diary_tag\" ON (\"diary_post_tag_set\".\"tag_id\" = \"diary_tag\".\"id\") WHERE \"diary_tag\".\"name\" = '코로나1' LIMIT 21; args=('코로나1',)\n"
     ]
    },
    {
     "data": {
      "text/plain": [
       "<QuerySet [<Post: 코로나19 연체위기 개인채무자…내년 6월까지 원금 상환유예>, <Post: 야놀자 인수된 인터파크, 밀크 코인 생태계 합류···\"시너지 낸다\">]>"
      ]
     },
     "execution_count": 23,
     "metadata": {},
     "output_type": "execute_result"
    }
   ],
   "source": [
    "qs = Post.objects.all()\n",
    "qs = qs.filter(tag_set__name=\"코로나1\")\n",
    "qs"
   ]
  },
  {
   "cell_type": "code",
   "execution_count": null,
   "id": "a19fd0b3",
   "metadata": {},
   "outputs": [],
   "source": []
  },
  {
   "cell_type": "code",
   "execution_count": null,
   "id": "416f41a9",
   "metadata": {},
   "outputs": [],
   "source": []
  },
  {
   "cell_type": "code",
   "execution_count": null,
   "id": "f8dd05d6",
   "metadata": {},
   "outputs": [],
   "source": []
  }
 ],
 "metadata": {
  "kernelspec": {
   "display_name": "Python 3 (ipykernel)",
   "language": "python",
   "name": "python3"
  },
  "language_info": {
   "codemirror_mode": {
    "name": "ipython",
    "version": 3
   },
   "file_extension": ".py",
   "mimetype": "text/x-python",
   "name": "python",
   "nbconvert_exporter": "python",
   "pygments_lexer": "ipython3",
   "version": "3.10.0"
  }
 },
 "nbformat": 4,
 "nbformat_minor": 5
}
