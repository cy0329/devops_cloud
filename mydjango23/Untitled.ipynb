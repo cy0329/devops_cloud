{
 "cells": [
  {
   "cell_type": "code",
   "execution_count": 1,
   "id": "8c82e618",
   "metadata": {},
   "outputs": [],
   "source": [
    "import os\n",
    "\n",
    "os.environ[\"DJANGO_SETTINGS_MODULE\"] = \"mydjango23.settings\"\n",
    "os.environ[\"DJANGO_ALLOW_ASYNC_UNSAFE\"] = \"true\"\n",
    "\n",
    "import django\n",
    "django.setup()"
   ]
  },
  {
   "cell_type": "code",
   "execution_count": 2,
   "id": "74c2e43c",
   "metadata": {},
   "outputs": [],
   "source": [
    "from blog.models import Post"
   ]
  },
  {
   "cell_type": "code",
   "execution_count": 3,
   "id": "7678be20",
   "metadata": {
    "scrolled": true
   },
   "outputs": [
    {
     "data": {
      "text/plain": [
       "<dataset object>"
      ]
     },
     "execution_count": 3,
     "metadata": {},
     "output_type": "execute_result"
    }
   ],
   "source": [
    "import tablib\n",
    "\n",
    "dataset = tablib.Dataset()\n",
    "dataset.headers = [\"id\", \"title\", \"created_at\", \"updated_at\"]\n",
    "dataset"
   ]
  },
  {
   "cell_type": "code",
   "execution_count": 6,
   "id": "d7fd7f8e",
   "metadata": {},
   "outputs": [],
   "source": [
    "for post in Post.objects.all():\n",
    "    dataset.append([\n",
    "        post.id,\n",
    "        post.title,\n",
    "        # tzinfo가 없는 date 객체는 tablib 에서 변환이 현재 지원되지 않아 \n",
    "        # 문자열로 병환을 하겠다.\n",
    "        post.created_at.strftime(\"%Y-%m-%d %H:%M:%S\"),\n",
    "        post.updated_at.strftime(\"%Y-%m-%d %H:%M:%S\"),\n",
    "])"
   ]
  },
  {
   "cell_type": "code",
   "execution_count": 12,
   "id": "93945af5",
   "metadata": {},
   "outputs": [
    {
     "data": {
      "text/plain": [
       "'[{\"id\": 6, \"title\": \"장고 4.0 출시\", \"created_at\": \"2021-12-15 05:41:33\", \"updated_at\": \"2021-12-15 05:41:33\"}, {\"id\": 5, \"title\": \"장고를 쓰세요\", \"created_at\": \"2021-12-15 05:25:37\", \"updated_at\": \"2021-12-15 05:25:37\"}, {\"id\": 2, \"title\": \"파이떤\", \"created_at\": \"2021-12-15 04:25:58\", \"updated_at\": \"2021-12-15 05:22:44\"}, {\"id\": 4, \"title\": \"허거덩\", \"created_at\": \"2021-12-15 04:46:54\", \"updated_at\": \"2021-12-15 05:22:59\"}]'"
      ]
     },
     "execution_count": 12,
     "metadata": {},
     "output_type": "execute_result"
    }
   ],
   "source": [
    "dataset.export('json')"
   ]
  },
  {
   "cell_type": "code",
   "execution_count": 11,
   "id": "c40cc3b3",
   "metadata": {},
   "outputs": [],
   "source": [
    "xlsx_data: bytes = dataset.export('xlsx')\n",
    "    \n",
    "# wb : write (새롭게 생성), binary (bytes 타입을 쓴다)\n",
    "with open(\"포스팅 내역.xlsx\", \"wb\") as f:\n",
    "    f.write(xlsx_data)"
   ]
  },
  {
   "cell_type": "code",
   "execution_count": null,
   "id": "49cf02c4",
   "metadata": {},
   "outputs": [],
   "source": []
  }
 ],
 "metadata": {
  "kernelspec": {
   "display_name": "Python 3 (ipykernel)",
   "language": "python",
   "name": "python3"
  },
  "language_info": {
   "codemirror_mode": {
    "name": "ipython",
    "version": 3
   },
   "file_extension": ".py",
   "mimetype": "text/x-python",
   "name": "python",
   "nbconvert_exporter": "python",
   "pygments_lexer": "ipython3",
   "version": "3.10.0"
  }
 },
 "nbformat": 4,
 "nbformat_minor": 5
}
