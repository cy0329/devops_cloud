{
 "cells": [
  {
   "cell_type": "code",
   "execution_count": 15,
   "id": "8c048c57",
   "metadata": {},
   "outputs": [],
   "source": [
    "import math\n",
    "\n",
    "class Circle:\n",
    "    def __init__(self, x, y, radius):\n",
    "        self.x = x\n",
    "        self.y = y\n",
    "        self.radius = radius\n",
    "\n",
    "    def get_area(self):\n",
    "        return math.pi * self.radius * self.radius\n",
    "    \n"
   ]
  },
  {
   "cell_type": "code",
   "execution_count": 16,
   "id": "6a3b3412",
   "metadata": {},
   "outputs": [],
   "source": [
    "# def get_area(circle):\n",
    "#     return math.pi * Circle.radius * Circle.radius"
   ]
  },
  {
   "cell_type": "code",
   "execution_count": 17,
   "id": "3845f04a",
   "metadata": {},
   "outputs": [],
   "source": [
    "circle = Circle(20, 30, 10)"
   ]
  },
  {
   "cell_type": "code",
   "execution_count": 18,
   "id": "389c4466",
   "metadata": {},
   "outputs": [
    {
     "data": {
      "text/plain": [
       "(20, 30, 10)"
      ]
     },
     "execution_count": 18,
     "metadata": {},
     "output_type": "execute_result"
    }
   ],
   "source": [
    "circle.x, circle.y, circle.radius"
   ]
  },
  {
   "cell_type": "code",
   "execution_count": 20,
   "id": "4bcdc06d",
   "metadata": {},
   "outputs": [
    {
     "data": {
      "text/plain": [
       "314.1592653589793"
      ]
     },
     "execution_count": 20,
     "metadata": {},
     "output_type": "execute_result"
    }
   ],
   "source": [
    "# get_area(circle)\n",
    "circle.get_area()"
   ]
  },
  {
   "cell_type": "code",
   "execution_count": null,
   "id": "4b79dec5",
   "metadata": {},
   "outputs": [],
   "source": []
  },
  {
   "cell_type": "markdown",
   "id": "abab7d72",
   "metadata": {},
   "source": [
    "# Generators"
   ]
  },
  {
   "cell_type": "code",
   "execution_count": 21,
   "id": "64567f3f",
   "metadata": {},
   "outputs": [],
   "source": [
    "def make_numbers_1():\n",
    "    numbers = []\n",
    "    for i in range(1, 11):\n",
    "        numbers.append(i)\n",
    "    return numbers"
   ]
  },
  {
   "cell_type": "code",
   "execution_count": 22,
   "id": "cdfac6aa",
   "metadata": {},
   "outputs": [
    {
     "data": {
      "text/plain": [
       "[1, 2, 3, 4, 5, 6, 7, 8, 9, 10]"
      ]
     },
     "execution_count": 22,
     "metadata": {},
     "output_type": "execute_result"
    }
   ],
   "source": [
    "make_numbers_1()"
   ]
  },
  {
   "cell_type": "code",
   "execution_count": 23,
   "id": "c57a495a",
   "metadata": {},
   "outputs": [
    {
     "name": "stdout",
     "output_type": "stream",
     "text": [
      "1\n",
      "2\n",
      "3\n",
      "4\n",
      "5\n",
      "6\n",
      "7\n",
      "8\n",
      "9\n",
      "10\n"
     ]
    }
   ],
   "source": [
    "for number in make_numbers_1():\n",
    "    print(number)"
   ]
  },
  {
   "cell_type": "code",
   "execution_count": null,
   "id": "bfca112a",
   "metadata": {},
   "outputs": [],
   "source": []
  },
  {
   "cell_type": "code",
   "execution_count": 24,
   "id": "68bad598",
   "metadata": {},
   "outputs": [],
   "source": [
    "# Generator Function\n",
    "def make_numbers_2():\n",
    "    for i in range(1, 11):\n",
    "        yield i"
   ]
  },
  {
   "cell_type": "code",
   "execution_count": 25,
   "id": "b2120de5",
   "metadata": {},
   "outputs": [
    {
     "data": {
      "text/plain": [
       "<generator object make_numbers_2 at 0x000001D5F5308580>"
      ]
     },
     "execution_count": 25,
     "metadata": {},
     "output_type": "execute_result"
    }
   ],
   "source": [
    "make_numbers_2()  # make_number_2 타입의 새로운 Generator, 즉 변수(객체)가 만들어짐"
   ]
  },
  {
   "cell_type": "code",
   "execution_count": 26,
   "id": "0a31afb4",
   "metadata": {},
   "outputs": [
    {
     "data": {
      "text/plain": [
       "<generator object make_numbers_2 at 0x000001D5F5308820>"
      ]
     },
     "execution_count": 26,
     "metadata": {},
     "output_type": "execute_result"
    }
   ],
   "source": [
    "make_numbers_2()"
   ]
  },
  {
   "cell_type": "code",
   "execution_count": 27,
   "id": "588d9188",
   "metadata": {},
   "outputs": [],
   "source": [
    "gen_numbers = make_numbers_2()"
   ]
  },
  {
   "cell_type": "code",
   "execution_count": 28,
   "id": "5afb3ac2",
   "metadata": {},
   "outputs": [
    {
     "data": {
      "text/plain": [
       "1"
      ]
     },
     "execution_count": 28,
     "metadata": {},
     "output_type": "execute_result"
    }
   ],
   "source": [
    "next(gen_numbers)"
   ]
  },
  {
   "cell_type": "code",
   "execution_count": 29,
   "id": "810c3daa",
   "metadata": {},
   "outputs": [
    {
     "data": {
      "text/plain": [
       "2"
      ]
     },
     "execution_count": 29,
     "metadata": {},
     "output_type": "execute_result"
    }
   ],
   "source": [
    "next(gen_numbers)"
   ]
  },
  {
   "cell_type": "code",
   "execution_count": 30,
   "id": "61fe439a",
   "metadata": {},
   "outputs": [
    {
     "data": {
      "text/plain": [
       "3"
      ]
     },
     "execution_count": 30,
     "metadata": {},
     "output_type": "execute_result"
    }
   ],
   "source": [
    "next(gen_numbers)"
   ]
  },
  {
   "cell_type": "code",
   "execution_count": 31,
   "id": "37fab1b5",
   "metadata": {},
   "outputs": [
    {
     "data": {
      "text/plain": [
       "4"
      ]
     },
     "execution_count": 31,
     "metadata": {},
     "output_type": "execute_result"
    }
   ],
   "source": [
    "next(gen_numbers)"
   ]
  },
  {
   "cell_type": "code",
   "execution_count": 32,
   "id": "473e0c39",
   "metadata": {},
   "outputs": [
    {
     "data": {
      "text/plain": [
       "5"
      ]
     },
     "execution_count": 32,
     "metadata": {},
     "output_type": "execute_result"
    }
   ],
   "source": [
    "next(gen_numbers)"
   ]
  },
  {
   "cell_type": "code",
   "execution_count": 33,
   "id": "2aec6d59",
   "metadata": {},
   "outputs": [
    {
     "data": {
      "text/plain": [
       "6"
      ]
     },
     "execution_count": 33,
     "metadata": {},
     "output_type": "execute_result"
    }
   ],
   "source": [
    "next(gen_numbers)"
   ]
  },
  {
   "cell_type": "code",
   "execution_count": 34,
   "id": "3d7a77cf",
   "metadata": {},
   "outputs": [
    {
     "data": {
      "text/plain": [
       "7"
      ]
     },
     "execution_count": 34,
     "metadata": {},
     "output_type": "execute_result"
    }
   ],
   "source": [
    "next(gen_numbers)"
   ]
  },
  {
   "cell_type": "code",
   "execution_count": 35,
   "id": "ae7dd260",
   "metadata": {},
   "outputs": [
    {
     "data": {
      "text/plain": [
       "8"
      ]
     },
     "execution_count": 35,
     "metadata": {},
     "output_type": "execute_result"
    }
   ],
   "source": [
    "next(gen_numbers)"
   ]
  },
  {
   "cell_type": "code",
   "execution_count": 36,
   "id": "694cc8f1",
   "metadata": {},
   "outputs": [
    {
     "data": {
      "text/plain": [
       "9"
      ]
     },
     "execution_count": 36,
     "metadata": {},
     "output_type": "execute_result"
    }
   ],
   "source": [
    "next(gen_numbers)"
   ]
  },
  {
   "cell_type": "code",
   "execution_count": 37,
   "id": "136ccc22",
   "metadata": {},
   "outputs": [
    {
     "data": {
      "text/plain": [
       "10"
      ]
     },
     "execution_count": 37,
     "metadata": {},
     "output_type": "execute_result"
    }
   ],
   "source": [
    "next(gen_numbers)"
   ]
  },
  {
   "cell_type": "code",
   "execution_count": 38,
   "id": "8e560bb5",
   "metadata": {},
   "outputs": [
    {
     "ename": "StopIteration",
     "evalue": "",
     "output_type": "error",
     "traceback": [
      "\u001b[1;31m---------------------------------------------------------------------------\u001b[0m",
      "\u001b[1;31mStopIteration\u001b[0m                             Traceback (most recent call last)",
      "\u001b[1;32m~\\AppData\\Local\\Temp/ipykernel_4184/66070288.py\u001b[0m in \u001b[0;36m<module>\u001b[1;34m\u001b[0m\n\u001b[1;32m----> 1\u001b[1;33m \u001b[0mnext\u001b[0m\u001b[1;33m(\u001b[0m\u001b[0mgen_numbers\u001b[0m\u001b[1;33m)\u001b[0m\u001b[1;33m\u001b[0m\u001b[1;33m\u001b[0m\u001b[0m\n\u001b[0m",
      "\u001b[1;31mStopIteration\u001b[0m: "
     ]
    }
   ],
   "source": [
    "next(gen_numbers)"
   ]
  },
  {
   "cell_type": "code",
   "execution_count": null,
   "id": "b1904227",
   "metadata": {},
   "outputs": [],
   "source": []
  },
  {
   "cell_type": "code",
   "execution_count": 40,
   "id": "2db4df67",
   "metadata": {},
   "outputs": [
    {
     "name": "stdout",
     "output_type": "stream",
     "text": [
      "1\n",
      "2\n",
      "------\n",
      "3\n",
      "4\n",
      "5\n",
      "6\n",
      "7\n",
      "8\n",
      "9\n",
      "10\n"
     ]
    }
   ],
   "source": [
    "gen_numbers2 = make_numbers_2()\n",
    "print(next(gen_numbers2))\n",
    "print(next(gen_numbers2))\n",
    "print(\"------\")\n",
    "for number in gen_numbers2:\n",
    "    print(number)"
   ]
  },
  {
   "cell_type": "code",
   "execution_count": null,
   "id": "d47da3d8",
   "metadata": {},
   "outputs": [],
   "source": []
  },
  {
   "cell_type": "code",
   "execution_count": 41,
   "id": "7f9ce4de",
   "metadata": {},
   "outputs": [],
   "source": [
    "# Generator Function\n",
    "def make_numbers_2():\n",
    "    for i in range(1, 11):\n",
    "        yield i"
   ]
  },
  {
   "cell_type": "code",
   "execution_count": 42,
   "id": "2422cbc3",
   "metadata": {},
   "outputs": [
    {
     "data": {
      "text/plain": [
       "[1, 2, 3, 4, 5, 6, 7, 8, 9, 10]"
      ]
     },
     "execution_count": 42,
     "metadata": {},
     "output_type": "execute_result"
    }
   ],
   "source": [
    "[i**2 for i in range(1,11)]  # List Comprehension"
   ]
  },
  {
   "cell_type": "code",
   "execution_count": 43,
   "id": "90331cd7",
   "metadata": {},
   "outputs": [
    {
     "data": {
      "text/plain": [
       "{1, 4, 9, 16, 25, 36, 49, 64, 81, 100}"
      ]
     },
     "execution_count": 43,
     "metadata": {},
     "output_type": "execute_result"
    }
   ],
   "source": [
    "{i**2 for i in range(1,11)}  # Set Comprehension"
   ]
  },
  {
   "cell_type": "code",
   "execution_count": 44,
   "id": "077926db",
   "metadata": {},
   "outputs": [
    {
     "data": {
      "text/plain": [
       "<generator object <genexpr> at 0x000001D5F52CAE30>"
      ]
     },
     "execution_count": 44,
     "metadata": {},
     "output_type": "execute_result"
    }
   ],
   "source": [
    "# Generator Expression (제너레이터 표현식)\n",
    "(i**2 for i in range(1,11))"
   ]
  },
  {
   "cell_type": "code",
   "execution_count": 45,
   "id": "5560ab8c",
   "metadata": {},
   "outputs": [],
   "source": [
    "# 위 Generator Expression과 동일한 Generator Function\n",
    "def make_numbers_3():\n",
    "    for i in range(1, 11):\n",
    "        yield i ** 2\n",
    "        \n",
    "gen2 = make_numbers_3()"
   ]
  },
  {
   "cell_type": "code",
   "execution_count": null,
   "id": "b307eea7",
   "metadata": {},
   "outputs": [],
   "source": []
  }
 ],
 "metadata": {
  "kernelspec": {
   "display_name": "Python 3 (ipykernel)",
   "language": "python",
   "name": "python3"
  },
  "language_info": {
   "codemirror_mode": {
    "name": "ipython",
    "version": 3
   },
   "file_extension": ".py",
   "mimetype": "text/x-python",
   "name": "python",
   "nbconvert_exporter": "python",
   "pygments_lexer": "ipython3",
   "version": "3.10.0"
  }
 },
 "nbformat": 4,
 "nbformat_minor": 5
}
